{
 "cells": [
  {
   "cell_type": "markdown",
   "metadata": {},
   "source": [
    "# CIS Equations in the Jellium AO Basis\n",
    "\n",
    "The CIS wavefunction can be written as\n",
    "\\begin{equation}\n",
    "\\Psi_{CIS} = c_0 |\\Phi_0\\rangle + \\sum_{i,a} c_i^a |\\Phi_i^a\\rangle\n",
    "\\end{equation}\n",
    "where $|\\Phi_0\\rangle$ is the Hartree-Fock reference and and $|\\Phi_i^a\\rangle$ are singly-excited determinants.  \n",
    "The CIS Hamiltonian Matrix has three classees of terms:\n",
    "\n",
    "\\begin{equation}\n",
    "\\langle \\Phi_0 | \\hat{H} | \\Phi_0 \\rangle = E_0,\n",
    "\\end{equation}\n",
    "\n",
    "\\begin{equation}\n",
    "\\langle \\Phi_0 | \\hat{H} | \\Phi_i^a \\rangle = \\langle \\phi_i | \\hat{h} | \\phi_a \\rangle + \\sum_k \\langle \\phi_i \\phi_k || \\phi_a \\phi_k \\rangle,\n",
    "\\end{equation}\n",
    "\n",
    "and\n",
    "\n",
    "\\begin{equation}\n",
    "\\langle \\Phi_i^a| \\hat{H} | \\Phi_j^b \\rangle = E_0 \\delta_{ij} \\delta_{ab} + \\left(\\langle \\phi_a | \\hat{h} | \\phi_b \\rangle + \\sum_k \\langle \\phi_a \\phi_k || \\phi_b \\phi_k \\rangle \\right)\\delta_{ij} - \\left( \\langle \\phi_i | \\hat{h} | \\phi_j \\rangle + \\sum_k \\langle \\phi_i \\phi_k || \\phi_j \\phi_k \\rangle \\right) \\delta_{ab} + \\langle \\phi_a \\phi_j || \\phi_i \\phi_b \\rangle.\n",
    "\\end{equation}\n",
    "\n",
    "The 1- and 2-electron integrals above are expressed in the MO basis, and each MO can be expressed as a linear\n",
    "combination of AOs:\n",
    "\\begin{equation}\n",
    "\\phi_n = \\sum_{\\mu} c_{\\mu}^n \\psi_{\\mu}\n",
    "\\end{equation}\n",
    "where \n",
    "\\begin{equation}\n",
    "\\psi_{\\mu} = \\left(\\frac{2}{\\pi}\\right)^{3/2} {\\rm sin}\\left(\\mu_x x\\right){\\rm sin}\\left(\\mu_y y\\right){\\rm sin}\\left(\\mu_z z\\right).\n",
    "\\end{equation}\n",
    "\n",
    "Consider the 1-electron integrals of the form $\\langle \\phi_a | \\hat{h} | \\phi_b \\rangle$; they can be expressed as\n",
    "linear combinations of the AO integrals as follows:\n",
    "\\begin{equation}\n",
    "\\left( \\sum_{\\mu, \\nu} c_{\\mu}^a c_{\\nu}^b \\frac{\\delta_{\\mu,\\nu}}{2} \\left(\\mu_x^2 + \\mu_y^2 + \\mu_z^2 \\right) \\right) + \\left( n \\sum_{\\mu,\\nu}  c_{\\mu}^a c_{\\nu}^b V_{\\mu, \\nu} \\right)\n",
    "\\end{equation}\n",
    "where the terms in the first sum only survive when $\\mu = \\nu$ and the terms in the second sum only \n",
    "survive when the pairs $(\\mu_x, \\nu_x), (\\mu_y, \\nu_y), (\\mu_z, \\nu_z)$ have the same parity.\n",
    "Thus, the first sum reduces to \n",
    "\\begin{equation}\n",
    "\\sum_{\\mu} c_{\\mu}^a c_{\\mu}^a \\frac{1}{2} \\left(\\mu_x^2 + \\mu_y^2 + \\mu_z^2 \\right) \n",
    "\\end{equation}\n",
    "and somehow the second sum contains many fewer terms than you would expect, but need to figure out how much fewer more precisely!\n",
    "\n"
   ]
  },
  {
   "cell_type": "markdown",
   "metadata": {},
   "source": []
  }
 ],
 "metadata": {
  "kernelspec": {
   "display_name": "Python 3",
   "language": "python",
   "name": "python3"
  },
  "language_info": {
   "codemirror_mode": {
    "name": "ipython",
    "version": 3
   },
   "file_extension": ".py",
   "mimetype": "text/x-python",
   "name": "python",
   "nbconvert_exporter": "python",
   "pygments_lexer": "ipython3",
   "version": "3.6.5"
  }
 },
 "nbformat": 4,
 "nbformat_minor": 2
}
